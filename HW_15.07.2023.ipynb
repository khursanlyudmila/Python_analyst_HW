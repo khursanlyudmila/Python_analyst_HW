{
 "cells": [
  {
   "cell_type": "markdown",
   "id": "fe46e300",
   "metadata": {},
   "source": [
    "# Оформляйте ноутбук, используя эти советы:\n",
    "\n",
    "## Номер задачи - заголовок 2\n",
    "\n",
    "### Номер подзадачи - заголовок 3\n",
    "\n",
    "Предоставленные наборы данных оформляйте, как код\n",
    "\n",
    "Рекомендации для преподавателей по оценке задания:\n",
    "- Смотреть, чтобы студент красиво оформлял ноутбук\n",
    "- Использовал ячейки с текстом\n",
    "- Указывал номера заданий"
   ]
  },
  {
   "cell_type": "markdown",
   "id": "e9d58866",
   "metadata": {},
   "source": [
    "## Условие 2:\n",
    "\n",
    "На складе лежат разные фрукты в разном количестве.\n",
    "\n",
    "Нужно написать функцию, которая на вход принимает любое количество названий фруктов и их количество, а возвращает общее количество фруктов на складе"
   ]
  },
  {
   "cell_type": "code",
   "execution_count": 1,
   "id": "11343669",
   "metadata": {},
   "outputs": [
    {
     "data": {
      "text/plain": [
       "25"
      ]
     },
     "execution_count": 1,
     "metadata": {},
     "output_type": "execute_result"
    }
   ],
   "source": [
    "def total_fruits(**kwargs):\n",
    "    res = sum(kwargs.values())\n",
    "    return res\n",
    "\n",
    "total_fruits(bananas = 5, apples = 6, pears = 7, plums = 7)"
   ]
  },
  {
   "cell_type": "markdown",
   "id": "f123d2aa",
   "metadata": {},
   "source": [
    "## Условие 3:\n",
    "\n",
    "Дан список с затратами на рекламу. Но в данных есть ошибки, некоторые затраты имеют отрицательную величину. Удалите такие значения из списка и посчитайте суммарные затраты"
   ]
  },
  {
   "cell_type": "code",
   "execution_count": 2,
   "id": "704fccf1",
   "metadata": {},
   "outputs": [],
   "source": [
    "data_original = [100, 125, -90, 345, 655, -1, 0, 200]"
   ]
  },
  {
   "cell_type": "markdown",
   "id": "6b9f1d75",
   "metadata": {},
   "source": [
    "#### Используйте list comprehensions"
   ]
  },
  {
   "cell_type": "code",
   "execution_count": 3,
   "id": "20e8c6c5",
   "metadata": {},
   "outputs": [
    {
     "data": {
      "text/plain": [
       "1425"
      ]
     },
     "execution_count": 3,
     "metadata": {},
     "output_type": "execute_result"
    }
   ],
   "source": [
    "data_new = sum([i if i > 0 else 0 for i in data_original])\n",
    "data_new"
   ]
  },
  {
   "cell_type": "markdown",
   "id": "68425593",
   "metadata": {},
   "source": [
    "## Условие 4:\n",
    "\n",
    "Даны два списка."
   ]
  },
  {
   "cell_type": "code",
   "execution_count": 4,
   "id": "8c9b2365",
   "metadata": {},
   "outputs": [],
   "source": [
    "date = ['2021-09-14', '2021-12-15', '2021-09-08', '2021-12-05', '2021-10-09', '2021-09-30', '2021-12-22', '2021-11-29', '2021-12-24', '2021-11-26', '2021-10-27', '2021-12-18', '2021-11-09', '2021-11-23', '2021-09-27', '2021-10-02', '2021-12-27', '2021-09-20', '2021-12-13', '2021-11-01', '2021-11-09', '2021-12-06', '2021-12-08', '2021-10-09', '2021-10-31', '2021-09-30', '2021-11-09', '2021-12-13', '2021-10-26', '2021-12-09']"
   ]
  },
  {
   "cell_type": "code",
   "execution_count": 5,
   "id": "54815693",
   "metadata": {},
   "outputs": [],
   "source": [
    "summa_per_date = [1270, 8413, 9028, 3703, 5739, 4095, 295, 4944, 5723, 3701, 4471, 651, 7037, 4274, 6275, 4988, 6930, 2971, 6592, 2004, 2822, 519, 3406, 2732, 5015, 2008, 316, 6333, 5700, 2887]"
   ]
  },
  {
   "cell_type": "markdown",
   "id": "8995d932",
   "metadata": {},
   "source": [
    "### 4.1 Найдите, какая выручка у компании в ноябре\n",
    "\n",
    "Используйте list comprehensions"
   ]
  },
  {
   "cell_type": "code",
   "execution_count": 6,
   "id": "9c32bbd5",
   "metadata": {},
   "outputs": [
    {
     "name": "stdout",
     "output_type": "stream",
     "text": [
      "Выручка компании в ноябре -  25098 руб.\n"
     ]
    }
   ],
   "source": [
    "def nov_rev(d: list[str], a: list[int]):\n",
    "    res = sum(a[i] for i in range(len(d)) if '-11-' in d[i])\n",
    "    return res\n",
    "\n",
    "print('Выручка компании в ноябре - ', nov_rev(date, summa_per_date), 'руб.')"
   ]
  },
  {
   "cell_type": "markdown",
   "id": "1d3ccc0d",
   "metadata": {},
   "source": [
    "### 4.2 Найдите выручку компании в зависимости от месяца\n",
    "\n",
    "Для этого напишите функцию, которая на вход принимает список с датами и список с выручкой, а на выходе словарь, где ключи - это месяцы, а значения - это выручка.\n",
    "\n",
    "Используйте аннотирование типов."
   ]
  },
  {
   "cell_type": "code",
   "execution_count": 7,
   "id": "19fce5b8",
   "metadata": {},
   "outputs": [
    {
     "data": {
      "text/plain": [
       "{'2021-09': 25647, '2021-12': 45452, '2021-10': 28645, '2021-11': 25098}"
      ]
     },
     "execution_count": 7,
     "metadata": {},
     "output_type": "execute_result"
    }
   ],
   "source": [
    "def monthly_rev(data: list[str], amount: list[int]):\n",
    "    monthly_d = {}\n",
    "    for i in range(len(data)):\n",
    "        month = data[i][0:7]\n",
    "        if month not in monthly_d:\n",
    "            monthly_d[month] = amount[i]\n",
    "        else:\n",
    "            monthly_d[month] += amount[i]\n",
    "    return monthly_d\n",
    "\n",
    "monthly_rev(date, summa_per_date)"
   ]
  }
 ],
 "metadata": {
  "kernelspec": {
   "display_name": "Python 3 (ipykernel)",
   "language": "python",
   "name": "python3"
  },
  "language_info": {
   "codemirror_mode": {
    "name": "ipython",
    "version": 3
   },
   "file_extension": ".py",
   "mimetype": "text/x-python",
   "name": "python",
   "nbconvert_exporter": "python",
   "pygments_lexer": "ipython3",
   "version": "3.11.3"
  }
 },
 "nbformat": 4,
 "nbformat_minor": 5
}
